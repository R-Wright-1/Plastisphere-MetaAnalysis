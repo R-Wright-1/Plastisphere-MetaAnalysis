{
 "cells": [
  {
   "cell_type": "markdown",
   "metadata": {},
   "source": [
    "This notebook contains all QIIME2 commands run for the Plastisphere metaanalysis paper (which were run separately for each study)\n",
    "Here we have used the 2019.10 version of QIIME2, so these commands should all work with this version, but cannot be guarenteed with newer versions - although the changes between versions are not usually large\n",
    "You can find details on installing this in a conda environment (as we have used) here:\n",
    "https://docs.qiime2.org/2019.10/install/native/#install-qiime-2-within-a-conda-environment\n",
    "\n",
    "Note that these commands were all run on a server. They may work on a local computer, but some steps may take too much memory. You should change the threads arguments (12 here) to an appropriate amount for your system.\n",
    "We assume a basic understanding of these analyses and packages used here, but for further explanation on the steps involved see: https://github.com/LangilleLab/microbiome_helper/wiki/Amplicon-SOP-v2-(qiime2-2020.2)"
   ]
  },
  {
   "cell_type": "markdown",
   "metadata": {},
   "source": [
    "1. Activate the QIIME2 environment"
   ]
  },
  {
   "cell_type": "code",
   "execution_count": null,
   "metadata": {},
   "outputs": [],
   "source": [
    "import os\n",
    "os.system('conda activate qiime2-2019.10')"
   ]
  },
  {
   "cell_type": "markdown",
   "metadata": {},
   "source": [
    "2. Run quality checks on your data"
   ]
  },
  {
   "cell_type": "code",
   "execution_count": null,
   "metadata": {},
   "outputs": [],
   "source": [
    "os.system('mkdir fastqc_out')\n",
    "os.system('fastqc -t 12 raw_data/*.fastq.gz -o fastqc_out')\n",
    "os.system('multiqc fastqc_out/')"
   ]
  },
  {
   "cell_type": "markdown",
   "metadata": {},
   "source": [
    "You should now look at the multiqc_report.html (by copying to a local folder and opening it) to ensure that everything is high enough quality to proceed"
   ]
  },
  {
   "cell_type": "markdown",
   "metadata": {},
   "source": [
    "3. Import your data to the QIIME2 format"
   ]
  },
  {
   "cell_type": "code",
   "execution_count": null,
   "metadata": {},
   "outputs": [],
   "source": [
    "os.system('qiime tools import \\\n",
    "            --type SampleData[PairedEndSequencesWithQuality] \\\n",
    "            --input-path raw_data/ \\\n",
    "            --output-path reads.qza \\\n",
    "            --input-format CasavaOneEightSingleLanePerSampleDirFmt')"
   ]
  },
  {
   "cell_type": "markdown",
   "metadata": {},
   "source": [
    "4. Optional - remove fastq files (these are no longer needed, so removing them saves space)"
   ]
  },
  {
   "cell_type": "code",
   "execution_count": null,
   "metadata": {},
   "outputs": [],
   "source": [
    "os.system('rm -r raw_data/')"
   ]
  },
  {
   "cell_type": "markdown",
   "metadata": {},
   "source": [
    "5. Trim primers (if present) with cutadapt. The primer sequences shown here are for 341F and 802R - these will need changing if you have used different primers"
   ]
  },
  {
   "cell_type": "code",
   "execution_count": null,
   "metadata": {},
   "outputs": [],
   "source": [
    "os.system('qiime cutadapt trim-paired \\\n",
    "            --i-demultiplexed-sequences reads.qza \\\n",
    "            --p-cores 12 \\\n",
    "            --p-front-f CCTACGGGNGGCWGCAG \\\n",
    "            --p-front-r GACTACHVGGGTATCTAATCC \\\n",
    "            --p-discard-untrimmed \\\n",
    "            --p-no-indels \\\n",
    "            --o-trimmed-sequences reads_trimmed.qza')"
   ]
  },
  {
   "cell_type": "markdown",
   "metadata": {},
   "source": [
    "6. Summarize trimmed fastq's (check that not too many reads have been removed by this step - if they have then the obvious first thing to check is that the primers haven't already been removed and the primer sequences have been typed correctly)"
   ]
  },
  {
   "cell_type": "code",
   "execution_count": null,
   "metadata": {},
   "outputs": [],
   "source": [
    "os.system('qiime demux summarize \\\n",
    "            --i-data reads_trimmed.qza \\\n",
    "            --o-visualization reads_trimmed_summary.qzv')"
   ]
  },
  {
   "cell_type": "markdown",
   "metadata": {},
   "source": [
    "7. Join paired ends (if the reads were already trimmed then just use reads.qza as the input here)"
   ]
  },
  {
   "cell_type": "code",
   "execution_count": null,
   "metadata": {},
   "outputs": [],
   "source": [
    "os.system('qiime vsearch join-pairs \\\n",
    "            --i-demultiplexed-seqs reads_trimmed.qza \\\n",
    "            --o-joined-sequences reads_joined.qza')"
   ]
  },
  {
   "cell_type": "markdown",
   "metadata": {},
   "source": [
    "8. Summarize the joined pairs (if too many reads were removed then you may need to play around with some of the other options at https://docs.qiime2.org/2020.2/plugins/available/vsearch/join-pairs/)"
   ]
  },
  {
   "cell_type": "code",
   "execution_count": null,
   "metadata": {},
   "outputs": [],
   "source": [
    "os.system('qiime demux summarize \\\n",
    "            --i-data reads_joined.qza \\\n",
    "            --o-visualization reads_joined_summary.qzv')"
   ]
  },
  {
   "cell_type": "markdown",
   "metadata": {},
   "source": [
    "9. Filter out low quality reads"
   ]
  },
  {
   "cell_type": "code",
   "execution_count": null,
   "metadata": {},
   "outputs": [],
   "source": [
    "os.system('qiime quality-filter q-score-joined \\\n",
    "            --i-demux reads_joined.qza \\\n",
    "            --o-filter-stats filt_stats.qza \\\n",
    "            --o-filtered-sequences reads_joined_filtered.qza')"
   ]
  },
  {
   "cell_type": "markdown",
   "metadata": {},
   "source": [
    "10. Summarize these reads (and look at where to trim)\n",
    "You should look at the positions where the quality starts to drop below 30 and use these as trim lengths"
   ]
  },
  {
   "cell_type": "code",
   "execution_count": null,
   "metadata": {},
   "outputs": [],
   "source": [
    "os.system('qiime demux summarize \\\n",
    "            --i-data reads_joined_filtered.qza \\\n",
    "            --o-visualization reads_joined_filtered_summary.qzv')"
   ]
  },
  {
   "cell_type": "markdown",
   "metadata": {},
   "source": [
    "11. Run deblur (you can remove the --p-left-trim-len if you don't need to remove any from this end)"
   ]
  },
  {
   "cell_type": "code",
   "execution_count": null,
   "metadata": {},
   "outputs": [],
   "source": [
    "os.system('qiime deblur denoise-16S \\\n",
    "            --i-demultiplexed-seqs reads_joined_filtered.qza \\\n",
    "            --p-trim-length 402 \\\n",
    "            --p-left-trim-len 0 \\\n",
    "            --p-sample-stats \\\n",
    "            --p-jobs-to-start 12 \\\n",
    "            --p-min-reads 1 \\\n",
    "            --output-dir deblur_output_quality')"
   ]
  },
  {
   "cell_type": "markdown",
   "metadata": {},
   "source": [
    "12. Summarize the feature table to see how many reads we now have"
   ]
  },
  {
   "cell_type": "code",
   "execution_count": null,
   "metadata": {},
   "outputs": [],
   "source": [
    "os.system('qiime feature-table summarize \\\n",
    "            --i-table deblur_output_quality/table.qza  \\\n",
    "            --o-visualization deblur_table_summary.qzv')"
   ]
  }
 ],
 "metadata": {
  "kernelspec": {
   "display_name": "Python 3",
   "language": "python",
   "name": "python3"
  },
  "language_info": {
   "codemirror_mode": {
    "name": "ipython",
    "version": 3
   },
   "file_extension": ".py",
   "mimetype": "text/x-python",
   "name": "python",
   "nbconvert_exporter": "python",
   "pygments_lexer": "ipython3",
   "version": "3.7.6"
  }
 },
 "nbformat": 4,
 "nbformat_minor": 2
}
