{
 "cells": [
  {
   "cell_type": "markdown",
   "metadata": {},
   "source": [
    "Notebook showing all commands to use for merging your own study with those included in the metaanalysis\n",
    "This assumes that you have the merged_representative_sequences.qza and merged_table.qza contained within the folder at https://doi.org/10.6084/m9.figshare.12217682"
   ]
  },
  {
   "cell_type": "code",
   "execution_count": null,
   "metadata": {},
   "outputs": [],
   "source": [
    "import os\n",
    "os.system('conda activate qiime2-2019.10')"
   ]
  },
  {
   "cell_type": "markdown",
   "metadata": {},
   "source": [
    "1. Rename the current representative sequences and merged tables"
   ]
  },
  {
   "cell_type": "code",
   "execution_count": null,
   "metadata": {},
   "outputs": [],
   "source": [
    "os.system('mv merged_representative_sequences.qza previous_merged_representative_sequences.qza')\n",
    "os.system('mv merged_table.qza previous_merged_table.qza')"
   ]
  },
  {
   "cell_type": "markdown",
   "metadata": {},
   "source": [
    "2. Combine feature tables. You will need to replace 'your_folder_name' with the folder that contains your tables to be added"
   ]
  },
  {
   "cell_type": "code",
   "execution_count": null,
   "metadata": {},
   "outputs": [],
   "source": [
    "os.system('qiime feature-table merge \\\n",
    "            --i-tables your_folder_name/deblur_output_quality/table.qza \\\n",
    "            --i-tables previous_merged_table.qza \\\n",
    "            --o-merged-table merged_table.qza')"
   ]
  },
  {
   "cell_type": "markdown",
   "metadata": {},
   "source": [
    "3. Combine the sequence objects. You will again need to replace 'your_folder_name' with the folder that contains your sequences to be added"
   ]
  },
  {
   "cell_type": "code",
   "execution_count": null,
   "metadata": {},
   "outputs": [],
   "source": [
    "os.system('qiime feature-table merge-seqs \\\n",
    "            --i-data your_folder_name/deblur_output/representative_sequences.qza \\\n",
    "            --i-data previous_merged_representative_sequences.qza \\\n",
    "            --o-merged-data merged_representative_sequences.qza')"
   ]
  }
 ],
 "metadata": {
  "kernelspec": {
   "display_name": "Python 3",
   "language": "python",
   "name": "python3"
  },
  "language_info": {
   "codemirror_mode": {
    "name": "ipython",
    "version": 3
   },
   "file_extension": ".py",
   "mimetype": "text/x-python",
   "name": "python",
   "nbconvert_exporter": "python",
   "pygments_lexer": "ipython3",
   "version": "3.7.4"
  }
 },
 "nbformat": 4,
 "nbformat_minor": 2
}
