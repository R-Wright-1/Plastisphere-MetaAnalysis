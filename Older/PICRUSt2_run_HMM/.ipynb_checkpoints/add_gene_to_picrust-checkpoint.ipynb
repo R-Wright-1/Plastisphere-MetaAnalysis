{
 "cells": [
  {
   "cell_type": "markdown",
   "metadata": {},
   "source": [
    "These are directions that can be followed in order to add genes to the standard PICRUSt2 database using a Hidden Markov Model (HMM) for that gene (or genes)\n",
    "The PICRUSt2 genomes will need to be downloaded, decompressed and saved somewhere locally.\n",
    "They can be downloaded from: https://doi.org/10.6084/m9.figshare.12233192\n",
    "And they can be decompressed by running 'tar -xf path_to_file/JGI_PICRUSt_genomes.tar.bz2' from the terminal (where path_to_file is replaced with the actual path to the file or removed if running from inside the same folder)\n",
    "\n",
    "You will also need to ensure that several packages are installed:\n",
    "- Conda: https://docs.conda.io/projects/conda/en/latest/commands/install.html\n",
    "- HMM, which can be done by running the following in the terminal: 'conda install -c biocore hmmer in terminal'\n",
    "- Biopython, which can be done by running the following in the terminal 'conda install biopython'\n",
    "\n",
    "You will also need the 'ko.txt.gz' file that should be in the same folder as this script. If not, you can download this from the PICRUSt2 github page here: https://github.com/picrust/picrust2/blob/master/picrust2/default_files/prokaryotic/ko.txt.gz\n",
    "\n",
    "You should also replace the HMMs in the '/hmms/' folder with HMMs for the genes that you are interested in. \n",
    "The HMMs that are currently shown were made from the .fasta files in the 'hmms_to_make' folder. To make these, you can follow these steps:\n",
    "1. Search for the top hits of the gene of interest in uniprot (https://www.uniprot.org/)\n",
    "2. Click on the genes that you want to include and follow the link for the genomic DNA translation\n",
    "3. Combine all of the DNA sequences into one .fasta file (you can do this using a text editing software)\n",
    "4. Get a stockholm alignment of the .fasta file. We used https://www.ebi.ac.uk/Tools/msa/clustalo/ (select 'DNA' and the 'STOCKHOLM' alignment option)\n",
    "5. Download this alignment and run 'hmmbuild PETase_DNA.hmm PETase_DNA.sto' in terminal\n",
    "6. Move the .hmm file to the 'hmms/' folder"
   ]
  },
  {
   "cell_type": "markdown",
   "metadata": {},
   "source": [
    "1. Import the packages that we will need"
   ]
  },
  {
   "cell_type": "code",
   "execution_count": 54,
   "metadata": {},
   "outputs": [],
   "source": [
    "from Bio import SeqIO\n",
    "import os\n",
    "import csv\n",
    "import pandas as pd\n",
    "from optparse import OptionParser\n",
    "from Bio.Alphabet import generic_dna, generic_protein"
   ]
  },
  {
   "cell_type": "markdown",
   "metadata": {},
   "source": [
    "2. Now give the paths to the files that we are using, changing these if necessary"
   ]
  },
  {
   "cell_type": "code",
   "execution_count": 55,
   "metadata": {},
   "outputs": [],
   "source": [
    "picrust_seqs = 'JGI_PICRUSt_genomes.fasta'\n",
    "hmms = os.listdir(os.getcwd()+'/hmms/')\n",
    "ko = 'ko.txt'"
   ]
  },
  {
   "cell_type": "markdown",
   "metadata": {},
   "source": [
    "3. Open these files and set up the directories that we will save things to"
   ]
  },
  {
   "cell_type": "code",
   "execution_count": 56,
   "metadata": {},
   "outputs": [],
   "source": [
    "os.system('gunzip '+ko+'.gz')\n",
    "try: os.mkdir('hmms_out')\n",
    "except: didnt_make = True\n",
    "ko_data = pd.read_csv(ko, header=0, index_col=0, sep='\\t')"
   ]
  },
  {
   "cell_type": "markdown",
   "metadata": {},
   "source": [
    "4. Perform the HMM searches of the PICRUSt2 sequences using your HMMs (this will take a while to run)"
   ]
  },
  {
   "cell_type": "code",
   "execution_count": 32,
   "metadata": {},
   "outputs": [],
   "source": [
    "for hmm in hmms:\n",
    "    os.system('nhmmer hmms/'+hmm+' '+picrust_seqs+' > hmms_out/'+hmm[:-4]+'.out')"
   ]
  },
  {
   "cell_type": "markdown",
   "metadata": {},
   "source": [
    "You can open any of the files in the hmms_out folder if you want to check whether you have any hits that are above the inclusion threshold (and whether this fits what you would have expected)"
   ]
  },
  {
   "cell_type": "markdown",
   "metadata": {},
   "source": [
    "5. Now take the information from these HMMs and add this to the PICRUSt2 KEGG ortholog information that we already have (this is a bit tedious as the HMM.out files don't use tabs between columns or anything that we could use to separate them, so we just have to read them in as text files and look at each character...)"
   ]
  },
  {
   "cell_type": "code",
   "execution_count": 57,
   "metadata": {},
   "outputs": [
    {
     "name": "stderr",
     "output_type": "stream",
     "text": [
      "/opt/anaconda3/lib/python3.7/site-packages/ipykernel_launcher.py:7: DeprecationWarning: 'U' mode is deprecated\n",
      "  import sys\n"
     ]
    }
   ],
   "source": [
    "hmms_out = os.listdir(os.getcwd()+'/hmms_out')\n",
    "main_dir = os.getcwd()\n",
    "genomes = list(ko_data.index.values)\n",
    "genomes = [str(genomes[i]).replace('-cluster', '') for i in range(len(genomes))]\n",
    "for hmm in hmms_out:\n",
    "    included_genomes = []\n",
    "    with open(main_dir+'/hmms_out/'+hmm, 'rU') as f:\n",
    "        contents = f.read()\n",
    "    row, rows = '', []\n",
    "    for a in range(len(contents)-1):\n",
    "        if contents[a:a+1] == '\\n':\n",
    "            if row == '  ------ inclusion threshold ------':\n",
    "                break\n",
    "            rows.append(row)\n",
    "            row = ''\n",
    "        else:\n",
    "            row += contents[a]\n",
    "    after_start, other_count = False, 0\n",
    "    for r in range(len(rows)):\n",
    "        if after_start:\n",
    "            block = 0\n",
    "            this_genome = ''\n",
    "            for b in range(1, len(rows[r])):\n",
    "                if rows[r][b-1] == ' ' and rows[r][b] != ' ':\n",
    "                    block += 1\n",
    "                if block == 4 and rows[r][b] != ' ':\n",
    "                    this_genome += rows[r][b]\n",
    "            if this_genome != '':\n",
    "                included_genomes.append(this_genome)\n",
    "        count = 0\n",
    "        for a in range(len(rows[r])):\n",
    "            if rows[r][a] == '-':\n",
    "                count += 1\n",
    "            if count > 40:\n",
    "                after_start = True\n",
    "                continue\n",
    "    for a in range(len(included_genomes)):\n",
    "        if included_genomes[a][-11:] == 'Description':\n",
    "            included_genomes[a] = included_genomes[a][:-11]\n",
    "    this_col = []\n",
    "    for g in genomes:\n",
    "        c1 = included_genomes.count(g)\n",
    "        c2 = included_genomes.count(g[:-8])\n",
    "        this_col.append(c1+c2)\n",
    "    ko_data[hmm[:-4]] = this_col\n",
    "ko_data.to_csv('ko_all.txt', sep='\\t')"
   ]
  },
  {
   "cell_type": "markdown",
   "metadata": {},
   "source": [
    "You can now check the ko_all.txt file, but there should be new columns titled with your HMM names and counts of how many times these genes are in each of your genomes in the rows. If you want to use these with the rest of the Plastisphere metaanalysis then you should replace the 'ko_all.txt' file in the picrust folders in both of the folders inside the 'all_output_and_recreate' folder (downloaded from https://doi.org/10.6084/m9.figshare.12227303.v3)"
   ]
  }
 ],
 "metadata": {
  "kernelspec": {
   "display_name": "Python 3",
   "language": "python",
   "name": "python3"
  },
  "language_info": {
   "codemirror_mode": {
    "name": "ipython",
    "version": 3
   },
   "file_extension": ".py",
   "mimetype": "text/x-python",
   "name": "python",
   "nbconvert_exporter": "python",
   "pygments_lexer": "ipython3",
   "version": "3.7.4"
  }
 },
 "nbformat": 4,
 "nbformat_minor": 2
}
