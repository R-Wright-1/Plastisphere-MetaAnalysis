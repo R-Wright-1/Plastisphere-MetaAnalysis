{
 "cells": [
  {
   "cell_type": "markdown",
   "metadata": {},
   "source": [
    "This notebook contains all commands to be used to run the standard QIIME2 analyses on the merged feature table and representative sequences. These are the files named 'merged_representative_sequences.qza' and 'merged_table.qza' in the folder that can be downloaded from: https://doi.org/10.6084/m9.figshare.12217682\n",
    "\n",
    "This assumes that you have:\n",
    "- the full length SILVA 16S classifier saved as 'ref_alignments/classifier_silva_132_99_16S.qza' (https://docs.qiime2.org/2019.10/data-resources/ - follow the link for 'Silva 132 99% OTUs full-length sequences')\n",
    "- the SEPP reference alignment saved as 'ref_alignments/sepp-refs-silva-128.qza' (https://docs.qiime2.org/2019.10/data-resources/ - follow the link for 'Silva 128 SEPP reference database')"
   ]
  },
  {
   "cell_type": "code",
   "execution_count": null,
   "metadata": {},
   "outputs": [],
   "source": [
    "import os\n",
    "os.system('conda activate qiime2-2019.10')"
   ]
  },
  {
   "cell_type": "markdown",
   "metadata": {},
   "source": [
    "1. Summarize the combined feature tables (this is to check that everything looks OK after the merges, and can be skipped if not necessary)"
   ]
  },
  {
   "cell_type": "code",
   "execution_count": null,
   "metadata": {},
   "outputs": [],
   "source": [
    "os.system('qiime feature-table summarize \\\n",
    "            --i-table merged_table.qza  \\\n",
    "            --o-visualization merged_table_summary.qzv')"
   ]
  },
  {
   "cell_type": "markdown",
   "metadata": {},
   "source": [
    "2. Classify the features (this part will probably take the longest - it may take at least a day or so and is the part that may not be possible on a local computer)"
   ]
  },
  {
   "cell_type": "code",
   "execution_count": null,
   "metadata": {},
   "outputs": [],
   "source": [
    "os.system('qiime feature-classifier classify-sklearn \\\n",
    "            --i-reads merged_representative_sequences.qza \\\n",
    "            --i-classifier ref_alignments/classifier_silva_132_99_16S.qza \\\n",
    "            --p-n-jobs 12 \\\n",
    "            --output-dir taxa')"
   ]
  },
  {
   "cell_type": "markdown",
   "metadata": {},
   "source": [
    "3. Export this file to look at the classifications"
   ]
  },
  {
   "cell_type": "code",
   "execution_count": null,
   "metadata": {},
   "outputs": [],
   "source": [
    "os.system('qiime tools export \\\n",
    "            --input-path taxa/classification.qza \\\n",
    "            --output-path taxa')"
   ]
  },
  {
   "cell_type": "markdown",
   "metadata": {},
   "source": [
    "4. Filter low abundance features"
   ]
  },
  {
   "cell_type": "code",
   "execution_count": null,
   "metadata": {},
   "outputs": [],
   "source": [
    "os.system('qiime feature-table filter-features \\\n",
    "            --i-table merged_table.qza \\\n",
    "            --p-min-frequency 10 \\\n",
    "            --p-min-samples 1 \\\n",
    "            --o-filtered-table merged_table_filtered.qza')"
   ]
  },
  {
   "cell_type": "markdown",
   "metadata": {},
   "source": [
    "5. Filter potential contaminants and those not classified at the kingdom level"
   ]
  },
  {
   "cell_type": "code",
   "execution_count": null,
   "metadata": {},
   "outputs": [],
   "source": [
    "os.system('qiime taxa filter-table \\\n",
    "            --i-table merged_table_filtered.qza \\\n",
    "            --i-taxonomy taxa/classification.qza \\\n",
    "            --p-include D_1__ \\\n",
    "            --p-exclude mitochondria,chloroplast \\\n",
    "            --o-filtered-table merged_table_filtered_contamination.qza')"
   ]
  },
  {
   "cell_type": "markdown",
   "metadata": {},
   "source": [
    "6. Summarize the filtered table and find out how many features you have as well as the maximum sample depth (this is the \"Maximum Frequency\" in the \"Frequency per sample\" section)"
   ]
  },
  {
   "cell_type": "code",
   "execution_count": null,
   "metadata": {},
   "outputs": [],
   "source": [
    "os.system('qiime feature-table summarize \\\n",
    "            --i-table merged_table_filtered_contamination.qza \\\n",
    "            --o-visualization merged_table_filtered_contamination_summary.qzv')"
   ]
  },
  {
   "cell_type": "markdown",
   "metadata": {},
   "source": [
    "7. Obtain rarefaction curves for samples"
   ]
  },
  {
   "cell_type": "code",
   "execution_count": null,
   "metadata": {},
   "outputs": [],
   "source": [
    "os.system(\"qiime diversity alpha-rarefaction \\\n",
    "            --i-table merged_table_filtered_contamination.qza \\\n",
    "            --p-max-depth 995391 \\\n",
    "            --p-steps 20 \\\n",
    "            --p-metrics 'observed_otus' \\\n",
    "            --o-visualization merged_rarefaction_curves.qzv\")"
   ]
  },
  {
   "cell_type": "markdown",
   "metadata": {},
   "source": [
    "8. Filter samples that have below 2000 reads"
   ]
  },
  {
   "cell_type": "code",
   "execution_count": null,
   "metadata": {},
   "outputs": [],
   "source": [
    "os.system('qiime feature-table filter-samples \\\n",
    "            --i-table merged_table_filtered_contamination.qza \\\n",
    "            --p-min-frequency 2000 \\\n",
    "            --o-filtered-table  merged_table_final.qza')"
   ]
  },
  {
   "cell_type": "markdown",
   "metadata": {},
   "source": [
    "9. Rarefy remaining samples to 2000"
   ]
  },
  {
   "cell_type": "code",
   "execution_count": null,
   "metadata": {},
   "outputs": [],
   "source": [
    "os.system('qiime feature-table rarefy \\\n",
    "            --i-table merged_table_final.qza \\\n",
    "            --p-sampling-depth 2000 \\\n",
    "            --o-rarefied-table merged_table_final_rarefied.qza')"
   ]
  },
  {
   "cell_type": "markdown",
   "metadata": {},
   "source": [
    "10. Filter the sequences to contain only those that are in the rarefied feature table"
   ]
  },
  {
   "cell_type": "code",
   "execution_count": null,
   "metadata": {},
   "outputs": [],
   "source": [
    "os.system('qiime feature-table filter-seqs \\\n",
    "            --i-data merged_representative_sequences.qza \\\n",
    "            --i-table merged_table_final_rarefied.qza \\\n",
    "            --o-filtered-data  representative_sequences_final_rarefied.qza')"
   ]
  },
  {
   "cell_type": "markdown",
   "metadata": {},
   "source": [
    "11. Export feature table and sequences"
   ]
  },
  {
   "cell_type": "code",
   "execution_count": null,
   "metadata": {},
   "outputs": [],
   "source": [
    "os.system('qiime tools export \\\n",
    "            --input-path representative_sequences_final_rarefied.qza \\\n",
    "            --output-path exports')\n",
    "os.system(\"sed -i -e '1 s/Feature/#Feature/' -e '1 s/Taxon/taxonomy/' taxa/taxonomy.tsv\")\n",
    "os.system('qiime tools export \\\n",
    "            --input-path merged_table_final_rarefied.qza \\\n",
    "            --output-path exports')\n",
    "os.system('biom add-metadata \\\n",
    "            -i exports/feature-table.biom \\\n",
    "            -o exports/feature-table_w_tax.biom \\\n",
    "            --observation-metadata-fp taxa/taxonomy.tsv \\\n",
    "            --sc-separated taxonomy')\n",
    "os.system('biom convert \\\n",
    "            -i exports/feature-table_w_tax.biom \\\n",
    "            -o exports/feature-table_w_tax.txt \\\n",
    "            --to-tsv \\\n",
    "            --header-key taxonomy')"
   ]
  },
  {
   "cell_type": "markdown",
   "metadata": {},
   "source": [
    "12. Obtain phylogenetic tree using SEPP fragment insertion and the silva reference database"
   ]
  },
  {
   "cell_type": "code",
   "execution_count": null,
   "metadata": {},
   "outputs": [],
   "source": [
    "os.system('qiime fragment-insertion sepp \\\n",
    "            --i-representative-sequences representative_sequences_final_rarefied.qza \\\n",
    "            --i-reference-database ref_alignments/sepp-refs-silva-128.qza \\\n",
    "            --o-tree insertion_tree_rarefied.qza \\\n",
    "            --o-placements insertion_placements_rarefied.qza \\\n",
    "            --p-threads 12')"
   ]
  },
  {
   "cell_type": "markdown",
   "metadata": {},
   "source": [
    "13. Export the resulting insertion tree"
   ]
  },
  {
   "cell_type": "code",
   "execution_count": null,
   "metadata": {},
   "outputs": [],
   "source": [
    "os.system('qiime tools export \\\n",
    "            --input-path insertion_tree_rarefied.qza \\\n",
    "            --output-path exports')"
   ]
  },
  {
   "cell_type": "markdown",
   "metadata": {},
   "source": [
    "14. The files inside the exports folder should then be copied to the folder that the subsequent analyses will be carried out in, e.g."
   ]
  },
  {
   "cell_type": "code",
   "execution_count": null,
   "metadata": {},
   "outputs": [],
   "source": [
    "os.system('for i in exports/* ; cp $i paper_data_20-04-14/qiime_output/; done')"
   ]
  },
  {
   "cell_type": "markdown",
   "metadata": {},
   "source": [
    "Optional further diversity analyses (these will give some metrics and QIIME2 visualizations that can be viewed on the QIIME2 website, but if you include all samples that we have, then the website won't cope too well with the >2000 samples)\n",
    "To do these, you will need to upload a metadata file containing all samples. You can take the metadata file that we have used from the 'python_analysis_20-04-14' folder and add your samples to this"
   ]
  },
  {
   "cell_type": "code",
   "execution_count": null,
   "metadata": {},
   "outputs": [],
   "source": [
    "os.system('qiime diversity core-metrics-phylogenetic \\\n",
    "            --i-table merged_table_final_rarefied.qza \\\n",
    "            --i-phylogeny insertion_tree_rarefied.qza \\\n",
    "            --p-sampling-depth 2000 \\\n",
    "            --m-metadata-file metadata.txt \\\n",
    "            --p-n-jobs 12 \\\n",
    "            --output-dir diversity')\n",
    "os.system('qiime tools export \\\n",
    "            --input-path diversity/weighted_unifrac_distance_matrix.qza \\\n",
    "            --output-path diversity')\n",
    "os.system('mv diversity/distance-matrix.tsv exports/weighted_unifrac_not_agglom.tsv')\n",
    "os.system('qiime tools export \\\n",
    "            --input-path diversity/unweighted_unifrac_distance_matrix.qza \\\n",
    "            --output-path diversity')\n",
    "os.system('mv diversity/distance-matrix.tsv exports/unweighted_unifrac_not_agglom.tsv')"
   ]
  }
 ],
 "metadata": {
  "kernelspec": {
   "display_name": "Python 3",
   "language": "python",
   "name": "python3"
  },
  "language_info": {
   "codemirror_mode": {
    "name": "ipython",
    "version": 3
   },
   "file_extension": ".py",
   "mimetype": "text/x-python",
   "name": "python",
   "nbconvert_exporter": "python",
   "pygments_lexer": "ipython3",
   "version": "3.7.6"
  }
 },
 "nbformat": 4,
 "nbformat_minor": 2
}
